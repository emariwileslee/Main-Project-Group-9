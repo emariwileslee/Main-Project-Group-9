{
 "cells": [
  {
   "cell_type": "code",
   "execution_count": 16,
   "metadata": {},
   "outputs": [],
   "source": [
    "# Generic Libraries\n",
    "from PIL import Image\n",
    "import os\n",
    "import pandas as pd\n",
    "import numpy as np\n",
    "import re,string,unicodedata\n",
    "import cv2\n",
    "\n",
    "#Tesseract Library\n",
    "import pytesseract\n",
    "\n",
    "pytesseract.pytesseract.tesseract_cmd = r'C:\\Program Files\\Tesseract-OCR\\tesseract.exe'\n",
    "\n",
    "\n",
    "#Warnings\n",
    "import warnings\n",
    "warnings.filterwarnings(\"ignore\")\n",
    "\n",
    "#Garbage Collection\n",
    "import gc\n",
    "\n",
    "#Gensim Library for Text Processing\n",
    "import gensim.parsing.preprocessing as gsp\n",
    "from gensim import utils\n",
    "\n",
    "#TextBlob Library (Sentiment Analysis)\n",
    "from textblob import TextBlob, Word\n",
    "\n",
    "#Plotting Libraries\n",
    "import matplotlib.pyplot as plt\n",
    "import seaborn as sns\n",
    "\n",
    "#WordCloud Generator\n",
    "from wordcloud import WordCloud,STOPWORDS\n"
   ]
  },
  {
   "cell_type": "code",
   "execution_count": 17,
   "metadata": {},
   "outputs": [],
   "source": [
    "#Define Directory Path\n",
    "#sample_images = r'C:\\Users\\calli\\Downloads\\train_images'\n",
    "test_images = r'C:\\Users\\calli\\Documents\\MATLAB\\archive\\Sample'"
   ]
  },
  {
   "cell_type": "code",
   "execution_count": 18,
   "metadata": {},
   "outputs": [],
   "source": [
    "#Custom Function to Traverse the folder\n",
    "def traverse(directory):\n",
    "    path, dirs, files = next(os.walk(directory))\n",
    "    fol_nm = os.path.split(os.path.dirname(path))[-1]\n",
    "    print(f'Number of files found in \"{fol_nm}\" : ',len(files))"
   ]
  },
  {
   "cell_type": "code",
   "execution_count": 20,
   "metadata": {},
   "outputs": [
    {
     "name": "stdout",
     "output_type": "stream",
     "text": [
      "Number of files found in \"archive\" :  5\n"
     ]
    }
   ],
   "source": [
    "#Traversing the folders\n",
    "#traverse(sample_images)\n",
    "traverse(test_images)"
   ]
  },
  {
   "cell_type": "code",
   "execution_count": 52,
   "metadata": {},
   "outputs": [],
   "source": [
    "ex_txt = []   #list to store the extracted text\n",
    "\n",
    "#Function to Extract Text\n",
    "def TxtExtract(directory):\n",
    "    \"\"\"\n",
    "    This function will handle the core OCR processing of images.\n",
    "    \"\"\"\n",
    "    \n",
    "    for subdir, dirs, files in os.walk(directory):\n",
    "        for file in files:\n",
    "            filepath = subdir + os.sep + file\n",
    "            \n",
    "            # Grayscale image\n",
    "            img = Image.open(filepath).convert('L')\n",
    "            ret,img = cv2.threshold(np.array(img), 125, 255, cv2.THRESH_BINARY)\n",
    "\n",
    "            # Older versions of pytesseract need a pillow image\n",
    "            # Convert back if needed\n",
    "            img = Image.fromarray(img.astype(np.uint8))\n",
    "            \n",
    "            text = pytesseract.image_to_string(Image.open(filepath), timeout=5)\n",
    "            if text == '\\n':\n",
    "                ex_txt.extend([[file, 'blank']])\n",
    "            else:   \n",
    "                ex_txt.extend([[file, text]])\n",
    "                \n",
    "    fol_nm = os.path.split(os.path.dirname(subdir))[-1]\n",
    "    \n",
    "    print(f\"Text Extracted from the files in '{fol_nm}' folder & saved to list..\")"
   ]
  },
  {
   "cell_type": "code",
   "execution_count": 53,
   "metadata": {},
   "outputs": [
    {
     "name": "stdout",
     "output_type": "stream",
     "text": [
      "Text Extracted from the files in 'archive' folder & saved to list..\n"
     ]
    }
   ],
   "source": [
    "#Extracting Text from JPG files in Sample Image Folder\n",
    "#TxtExtract(sample_images)\n",
    "\n",
    "#Extracting Text from JPG files in Dataset Folder\n",
    "TxtExtract(test_images)"
   ]
  },
  {
   "cell_type": "code",
   "execution_count": 54,
   "metadata": {},
   "outputs": [],
   "source": [
    "#Converting the list to dataframe for further analysis\n",
    "ext_df = pd.DataFrame(ex_txt,columns=['FileName','Text'])"
   ]
  },
  {
   "cell_type": "code",
   "execution_count": 55,
   "metadata": {},
   "outputs": [
    {
     "name": "stdout",
     "output_type": "stream",
     "text": [
      "               FileName                                               Text\n",
      "0   Sample_Negative.jpg  Of course gay men\\n\\ndress well. They didn't\\n...\n",
      "1   Sample_Positive.jpg                                                  \f",
      "\n",
      "2     Sample_Random.jpg                                                  \f",
      "\n",
      "3           Test133.jpg                                                \\n\f",
      "\n",
      "4          Test1620.jpg    \\n   \\n\\nLOVE\\n\\nIS TOO BEAU\\nTO BE HID\\nIN ...\n",
      "5          Test1767.jpg                                                  \f",
      "\n",
      "6          Test1785.jpg  wom ol-Mehicel (om\\n‘to behave as\\nif the trut...\n",
      "7          Test2411.jpg   \\n  \\n \\n\\nTSN G\\nWON'T HAVE TO\\n\\n“COME OUT ...\n",
      "8          Test2424.jpg              \\n\\nLa not dfva'd we\\nWO. Tan\\n\\n \\n\f",
      "\n",
      "9          Test2870.jpg     \\n\\n“People don't know if i'm gay, straight...\n",
      "10         Test3118.jpg  A KEEP CALM\\nAND LOVE\\n\\nWHO YOU WANT\\n\\nYoram\\n\f",
      "\n",
      "11         Test3706.jpg  ‘Shine your soul with the same egoless humilit...\n",
      "12         Test3827.jpg  Being gay is not a crime\\n\\nand it is not a si...\n",
      "13          Test937.jpg  you are\\n¥ LOVABLE\\n\\nFY WORTHY\\nFY ENOUGH\\nWw...\n"
     ]
    }
   ],
   "source": [
    "pd.set_option('display.max_rows', None)\n",
    "#Inspect the dataframe\n",
    "print(ext_df)"
   ]
  },
  {
   "cell_type": "code",
   "execution_count": 27,
   "metadata": {},
   "outputs": [],
   "source": [
    "ext_df.to_csv (r'C:\\Users\\calli\\Documents\\ocr_text.csv', index = False, header=True);"
   ]
  },
  {
   "cell_type": "code",
   "execution_count": null,
   "metadata": {},
   "outputs": [],
   "source": [
    "print(\"Total Records: \", ext_df.shape[0])"
   ]
  },
  {
   "cell_type": "code",
   "execution_count": null,
   "metadata": {},
   "outputs": [],
   "source": [
    "# Create list of pre-processing func (gensim)\n",
    "processes = [\n",
    "               gsp.strip_tags, \n",
    "               gsp.strip_punctuation,\n",
    "               gsp.strip_multiple_whitespaces,\n",
    "               gsp.strip_numeric,\n",
    "               gsp.remove_stopwords, \n",
    "               gsp.strip_short, \n",
    "               gsp.stem_text\n",
    "            ]\n",
    "\n",
    "# Create func to pre-process text\n",
    "def proc_txt(txt):\n",
    "    text = txt.lower()\n",
    "    text = utils.to_unicode(text)\n",
    "    for p in processes:\n",
    "        text = p(text)\n",
    "    return text"
   ]
  },
  {
   "cell_type": "code",
   "execution_count": null,
   "metadata": {},
   "outputs": [],
   "source": [
    "#Creating a new column with processed text\n",
    "ext_df['Text_Pr'] = ext_df['Text'].apply(lambda x: proc_txt(x))"
   ]
  },
  {
   "cell_type": "code",
   "execution_count": null,
   "metadata": {},
   "outputs": [],
   "source": [
    "#Creating a seperate dataframe with non-blank Text \n",
    "ext_df_txt = ext_df[(  ext_df['Text_Pr'] != 'blank'  )]"
   ]
  },
  {
   "cell_type": "code",
   "execution_count": null,
   "metadata": {},
   "outputs": [],
   "source": [
    "print(\"Total Records in Text Only Dataframe: \", ext_df_txt.shape[0])"
   ]
  },
  {
   "cell_type": "code",
   "execution_count": null,
   "metadata": {},
   "outputs": [],
   "source": [
    "#Free up memory\n",
    "gc.collect()"
   ]
  },
  {
   "cell_type": "code",
   "execution_count": null,
   "metadata": {},
   "outputs": [],
   "source": []
  }
 ],
 "metadata": {
  "kernelspec": {
   "display_name": "Python 3",
   "language": "python",
   "name": "python3"
  },
  "language_info": {
   "codemirror_mode": {
    "name": "ipython",
    "version": 3
   },
   "file_extension": ".py",
   "mimetype": "text/x-python",
   "name": "python",
   "nbconvert_exporter": "python",
   "pygments_lexer": "ipython3",
   "version": "3.8.5"
  }
 },
 "nbformat": 4,
 "nbformat_minor": 4
}
